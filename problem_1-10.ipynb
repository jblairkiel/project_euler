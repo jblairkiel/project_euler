{
 "cells": [
  {
   "cell_type": "markdown",
   "metadata": {},
   "source": [
    "## Problem 1"
   ]
  },
  {
   "cell_type": "code",
   "execution_count": 3,
   "metadata": {},
   "outputs": [
    {
     "name": "stdout",
     "output_type": "stream",
     "text": [
      "233168\n"
     ]
    }
   ],
   "source": [
    "ceiling = 1000\n",
    "mult_three = 3\n",
    "mult_five = 5\n",
    "mult_sum = 0\n",
    "\n",
    "for i in range(0, ceiling):\n",
    "    if (i % mult_three == 0) or (i % mult_five == 0):\n",
    "        mult_sum = mult_sum + i\n",
    "\n",
    "\n",
    "print(str(mult_sum))\n"
   ]
  },
  {
   "cell_type": "markdown",
   "metadata": {},
   "source": [
    "## Problem 2"
   ]
  },
  {
   "cell_type": "code",
   "execution_count": 11,
   "metadata": {},
   "outputs": [
    {
     "name": "stdout",
     "output_type": "stream",
     "text": [
      "1 2\n",
      "2 3\n",
      "3 5\n",
      "5 8\n",
      "8 13\n",
      "13 21\n",
      "21 34\n",
      "34 55\n",
      "55 89\n",
      "89 144\n",
      "144 233\n",
      "233 377\n",
      "377 610\n",
      "610 987\n",
      "987 1597\n",
      "1597 2584\n",
      "2584 4181\n",
      "4181 6765\n",
      "6765 10946\n",
      "10946 17711\n",
      "17711 28657\n",
      "28657 46368\n",
      "46368 75025\n",
      "75025 121393\n",
      "121393 196418\n",
      "196418 317811\n",
      "317811 514229\n",
      "514229 832040\n",
      "832040 1346269\n",
      "1346269 2178309\n",
      "2178309 3524578\n",
      "4613732\n"
     ]
    }
   ],
   "source": [
    "ceiling = 4000000\n",
    "a = 1\n",
    "b = 2\n",
    "sum = 0\n",
    "evens = []\n",
    "\n",
    "while b < ceiling:\n",
    "    if b % 2 == 0:\n",
    "        evens.append(b)\n",
    "    print(str(a) + \" \" + str(b))\n",
    "    tempb = b\n",
    "    b = a + b\n",
    "    a = tempb\n",
    "\n",
    "for evs in evens:\n",
    "    sum = sum + evs\n",
    "\n",
    "print(sum)"
   ]
  }
 ],
 "metadata": {
  "kernelspec": {
   "display_name": "base",
   "language": "python",
   "name": "python3"
  },
  "language_info": {
   "codemirror_mode": {
    "name": "ipython",
    "version": 3
   },
   "file_extension": ".py",
   "mimetype": "text/x-python",
   "name": "python",
   "nbconvert_exporter": "python",
   "pygments_lexer": "ipython3",
   "version": "3.11.5"
  }
 },
 "nbformat": 4,
 "nbformat_minor": 2
}
